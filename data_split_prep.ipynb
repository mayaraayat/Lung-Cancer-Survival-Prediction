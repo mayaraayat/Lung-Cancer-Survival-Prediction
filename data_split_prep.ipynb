{
 "cells": [
  {
   "cell_type": "code",
   "execution_count": 3,
   "metadata": {},
   "outputs": [],
   "source": [
    "import pandas as pd \n",
    "import matplotlib.pyplot as plt\n",
    "import torch\n",
    "import numpy as np\n",
    "import os\n",
    "from sklearn.preprocessing import StandardScaler, OneHotEncoder, OrdinalEncoder\n",
    "from sklearn.compose import ColumnTransformer\n",
    "from sklearn.pipeline import Pipeline"
   ]
  },
  {
   "cell_type": "code",
   "execution_count": 4,
   "metadata": {},
   "outputs": [],
   "source": [
    "data = pd.read_csv('Small dataset.csv')\n"
   ]
  },
  {
   "cell_type": "code",
   "execution_count": 5,
   "metadata": {},
   "outputs": [],
   "source": [
    "data['age'].fillna(data['age'].mean(), inplace=True)"
   ]
  },
  {
   "cell_type": "code",
   "execution_count": 6,
   "metadata": {},
   "outputs": [],
   "source": [
    "data['clinical.T.Stage'].fillna(2.0, inplace=True)"
   ]
  },
  {
   "cell_type": "code",
   "execution_count": 7,
   "metadata": {},
   "outputs": [],
   "source": [
    "data['Histology'].fillna('nos', inplace=True)"
   ]
  },
  {
   "cell_type": "code",
   "execution_count": 8,
   "metadata": {},
   "outputs": [],
   "source": [
    "data['Overall.Stage'].fillna('IIIb', inplace=True)"
   ]
  },
  {
   "cell_type": "markdown",
   "metadata": {},
   "source": [
    "## Get Tabular Data"
   ]
  },
  {
   "cell_type": "code",
   "execution_count": 9,
   "metadata": {},
   "outputs": [],
   "source": [
    "df = data.copy()\n",
    "stage_mapping = {\"I\": 1, \"II\": 2, \"IIIa\": 3, \"IIIb\": 4, \"IV\": 5}\n",
    "df[\"Overall.Stage\"] = df[\"Overall.Stage\"].map(stage_mapping)\n"
   ]
  },
  {
   "cell_type": "code",
   "execution_count": 10,
   "metadata": {},
   "outputs": [],
   "source": [
    "df.drop(columns=['Survival.time','deadstatus.event'],inplace=True)"
   ]
  },
  {
   "cell_type": "code",
   "execution_count": 11,
   "metadata": {},
   "outputs": [],
   "source": [
    "def f(x):\n",
    "    return x.split('-')[1]\n",
    "df['patient'] = df['PatientID'].apply(f)"
   ]
  },
  {
   "cell_type": "code",
   "execution_count": 12,
   "metadata": {},
   "outputs": [
    {
     "data": {
      "text/html": [
       "<div>\n",
       "<style scoped>\n",
       "    .dataframe tbody tr th:only-of-type {\n",
       "        vertical-align: middle;\n",
       "    }\n",
       "\n",
       "    .dataframe tbody tr th {\n",
       "        vertical-align: top;\n",
       "    }\n",
       "\n",
       "    .dataframe thead th {\n",
       "        text-align: right;\n",
       "    }\n",
       "</style>\n",
       "<table border=\"1\" class=\"dataframe\">\n",
       "  <thead>\n",
       "    <tr style=\"text-align: right;\">\n",
       "      <th></th>\n",
       "      <th>PatientID</th>\n",
       "      <th>age</th>\n",
       "      <th>clinical.T.Stage</th>\n",
       "      <th>Clinical.N.Stage</th>\n",
       "      <th>Clinical.M.Stage</th>\n",
       "      <th>Overall.Stage</th>\n",
       "      <th>Histology</th>\n",
       "      <th>gender</th>\n",
       "      <th>Study Date</th>\n",
       "      <th>patient</th>\n",
       "    </tr>\n",
       "  </thead>\n",
       "  <tbody>\n",
       "    <tr>\n",
       "      <th>0</th>\n",
       "      <td>LUNG1-001</td>\n",
       "      <td>78.7515</td>\n",
       "      <td>2.0</td>\n",
       "      <td>3</td>\n",
       "      <td>0</td>\n",
       "      <td>4</td>\n",
       "      <td>large cell</td>\n",
       "      <td>male</td>\n",
       "      <td>20140101</td>\n",
       "      <td>001</td>\n",
       "    </tr>\n",
       "    <tr>\n",
       "      <th>1</th>\n",
       "      <td>LUNG1-002</td>\n",
       "      <td>83.8001</td>\n",
       "      <td>2.0</td>\n",
       "      <td>0</td>\n",
       "      <td>0</td>\n",
       "      <td>1</td>\n",
       "      <td>squamous cell carcinoma</td>\n",
       "      <td>male</td>\n",
       "      <td>20080123</td>\n",
       "      <td>002</td>\n",
       "    </tr>\n",
       "    <tr>\n",
       "      <th>2</th>\n",
       "      <td>LUNG1-003</td>\n",
       "      <td>68.1807</td>\n",
       "      <td>2.0</td>\n",
       "      <td>3</td>\n",
       "      <td>0</td>\n",
       "      <td>4</td>\n",
       "      <td>large cell</td>\n",
       "      <td>male</td>\n",
       "      <td>20050105</td>\n",
       "      <td>003</td>\n",
       "    </tr>\n",
       "    <tr>\n",
       "      <th>3</th>\n",
       "      <td>LUNG1-004</td>\n",
       "      <td>70.8802</td>\n",
       "      <td>2.0</td>\n",
       "      <td>1</td>\n",
       "      <td>0</td>\n",
       "      <td>2</td>\n",
       "      <td>squamous cell carcinoma</td>\n",
       "      <td>male</td>\n",
       "      <td>20140101</td>\n",
       "      <td>004</td>\n",
       "    </tr>\n",
       "    <tr>\n",
       "      <th>4</th>\n",
       "      <td>LUNG1-005</td>\n",
       "      <td>80.4819</td>\n",
       "      <td>4.0</td>\n",
       "      <td>2</td>\n",
       "      <td>0</td>\n",
       "      <td>4</td>\n",
       "      <td>squamous cell carcinoma</td>\n",
       "      <td>male</td>\n",
       "      <td>20071008</td>\n",
       "      <td>005</td>\n",
       "    </tr>\n",
       "    <tr>\n",
       "      <th>...</th>\n",
       "      <td>...</td>\n",
       "      <td>...</td>\n",
       "      <td>...</td>\n",
       "      <td>...</td>\n",
       "      <td>...</td>\n",
       "      <td>...</td>\n",
       "      <td>...</td>\n",
       "      <td>...</td>\n",
       "      <td>...</td>\n",
       "      <td>...</td>\n",
       "    </tr>\n",
       "    <tr>\n",
       "      <th>415</th>\n",
       "      <td>LUNG1-418</td>\n",
       "      <td>53.6712</td>\n",
       "      <td>2.0</td>\n",
       "      <td>0</td>\n",
       "      <td>0</td>\n",
       "      <td>1</td>\n",
       "      <td>adenocarcinoma</td>\n",
       "      <td>male</td>\n",
       "      <td>20080921</td>\n",
       "      <td>418</td>\n",
       "    </tr>\n",
       "    <tr>\n",
       "      <th>416</th>\n",
       "      <td>LUNG1-419</td>\n",
       "      <td>66.5096</td>\n",
       "      <td>4.0</td>\n",
       "      <td>1</td>\n",
       "      <td>0</td>\n",
       "      <td>4</td>\n",
       "      <td>squamous cell carcinoma</td>\n",
       "      <td>male</td>\n",
       "      <td>20080508</td>\n",
       "      <td>419</td>\n",
       "    </tr>\n",
       "    <tr>\n",
       "      <th>417</th>\n",
       "      <td>LUNG1-420</td>\n",
       "      <td>73.3808</td>\n",
       "      <td>2.0</td>\n",
       "      <td>1</td>\n",
       "      <td>0</td>\n",
       "      <td>2</td>\n",
       "      <td>squamous cell carcinoma</td>\n",
       "      <td>male</td>\n",
       "      <td>20051124</td>\n",
       "      <td>420</td>\n",
       "    </tr>\n",
       "    <tr>\n",
       "      <th>418</th>\n",
       "      <td>LUNG1-421</td>\n",
       "      <td>61.7041</td>\n",
       "      <td>2.0</td>\n",
       "      <td>2</td>\n",
       "      <td>0</td>\n",
       "      <td>3</td>\n",
       "      <td>squamous cell carcinoma</td>\n",
       "      <td>female</td>\n",
       "      <td>20100531</td>\n",
       "      <td>421</td>\n",
       "    </tr>\n",
       "    <tr>\n",
       "      <th>419</th>\n",
       "      <td>LUNG1-422</td>\n",
       "      <td>68.1260</td>\n",
       "      <td>2.0</td>\n",
       "      <td>0</td>\n",
       "      <td>0</td>\n",
       "      <td>1</td>\n",
       "      <td>nos</td>\n",
       "      <td>female</td>\n",
       "      <td>20060301</td>\n",
       "      <td>422</td>\n",
       "    </tr>\n",
       "  </tbody>\n",
       "</table>\n",
       "<p>420 rows × 10 columns</p>\n",
       "</div>"
      ],
      "text/plain": [
       "     PatientID      age  clinical.T.Stage  Clinical.N.Stage  Clinical.M.Stage  \\\n",
       "0    LUNG1-001  78.7515               2.0                 3                 0   \n",
       "1    LUNG1-002  83.8001               2.0                 0                 0   \n",
       "2    LUNG1-003  68.1807               2.0                 3                 0   \n",
       "3    LUNG1-004  70.8802               2.0                 1                 0   \n",
       "4    LUNG1-005  80.4819               4.0                 2                 0   \n",
       "..         ...      ...               ...               ...               ...   \n",
       "415  LUNG1-418  53.6712               2.0                 0                 0   \n",
       "416  LUNG1-419  66.5096               4.0                 1                 0   \n",
       "417  LUNG1-420  73.3808               2.0                 1                 0   \n",
       "418  LUNG1-421  61.7041               2.0                 2                 0   \n",
       "419  LUNG1-422  68.1260               2.0                 0                 0   \n",
       "\n",
       "     Overall.Stage                Histology  gender  Study Date patient  \n",
       "0                4               large cell    male    20140101     001  \n",
       "1                1  squamous cell carcinoma    male    20080123     002  \n",
       "2                4               large cell    male    20050105     003  \n",
       "3                2  squamous cell carcinoma    male    20140101     004  \n",
       "4                4  squamous cell carcinoma    male    20071008     005  \n",
       "..             ...                      ...     ...         ...     ...  \n",
       "415              1           adenocarcinoma    male    20080921     418  \n",
       "416              4  squamous cell carcinoma    male    20080508     419  \n",
       "417              2  squamous cell carcinoma    male    20051124     420  \n",
       "418              3  squamous cell carcinoma  female    20100531     421  \n",
       "419              1                      nos  female    20060301     422  \n",
       "\n",
       "[420 rows x 10 columns]"
      ]
     },
     "execution_count": 12,
     "metadata": {},
     "output_type": "execute_result"
    }
   ],
   "source": [
    "df"
   ]
  },
  {
   "cell_type": "code",
   "execution_count": 13,
   "metadata": {},
   "outputs": [],
   "source": [
    "df.dropna(inplace=True)\n",
    "df.drop(columns=['PatientID'],inplace=True)"
   ]
  },
  {
   "cell_type": "code",
   "execution_count": 14,
   "metadata": {},
   "outputs": [],
   "source": [
    "df.set_index('patient',inplace=True)\n"
   ]
  },
  {
   "cell_type": "code",
   "execution_count": 15,
   "metadata": {},
   "outputs": [
    {
     "data": {
      "text/html": [
       "<div>\n",
       "<style scoped>\n",
       "    .dataframe tbody tr th:only-of-type {\n",
       "        vertical-align: middle;\n",
       "    }\n",
       "\n",
       "    .dataframe tbody tr th {\n",
       "        vertical-align: top;\n",
       "    }\n",
       "\n",
       "    .dataframe thead th {\n",
       "        text-align: right;\n",
       "    }\n",
       "</style>\n",
       "<table border=\"1\" class=\"dataframe\">\n",
       "  <thead>\n",
       "    <tr style=\"text-align: right;\">\n",
       "      <th></th>\n",
       "      <th>age</th>\n",
       "      <th>clinical.T.Stage</th>\n",
       "      <th>Clinical.N.Stage</th>\n",
       "      <th>Clinical.M.Stage</th>\n",
       "      <th>Overall.Stage</th>\n",
       "      <th>Histology</th>\n",
       "      <th>gender</th>\n",
       "      <th>Study Date</th>\n",
       "    </tr>\n",
       "    <tr>\n",
       "      <th>patient</th>\n",
       "      <th></th>\n",
       "      <th></th>\n",
       "      <th></th>\n",
       "      <th></th>\n",
       "      <th></th>\n",
       "      <th></th>\n",
       "      <th></th>\n",
       "      <th></th>\n",
       "    </tr>\n",
       "  </thead>\n",
       "  <tbody>\n",
       "    <tr>\n",
       "      <th>001</th>\n",
       "      <td>78.7515</td>\n",
       "      <td>2.0</td>\n",
       "      <td>3</td>\n",
       "      <td>0</td>\n",
       "      <td>4</td>\n",
       "      <td>large cell</td>\n",
       "      <td>male</td>\n",
       "      <td>20140101</td>\n",
       "    </tr>\n",
       "    <tr>\n",
       "      <th>002</th>\n",
       "      <td>83.8001</td>\n",
       "      <td>2.0</td>\n",
       "      <td>0</td>\n",
       "      <td>0</td>\n",
       "      <td>1</td>\n",
       "      <td>squamous cell carcinoma</td>\n",
       "      <td>male</td>\n",
       "      <td>20080123</td>\n",
       "    </tr>\n",
       "    <tr>\n",
       "      <th>003</th>\n",
       "      <td>68.1807</td>\n",
       "      <td>2.0</td>\n",
       "      <td>3</td>\n",
       "      <td>0</td>\n",
       "      <td>4</td>\n",
       "      <td>large cell</td>\n",
       "      <td>male</td>\n",
       "      <td>20050105</td>\n",
       "    </tr>\n",
       "    <tr>\n",
       "      <th>004</th>\n",
       "      <td>70.8802</td>\n",
       "      <td>2.0</td>\n",
       "      <td>1</td>\n",
       "      <td>0</td>\n",
       "      <td>2</td>\n",
       "      <td>squamous cell carcinoma</td>\n",
       "      <td>male</td>\n",
       "      <td>20140101</td>\n",
       "    </tr>\n",
       "    <tr>\n",
       "      <th>005</th>\n",
       "      <td>80.4819</td>\n",
       "      <td>4.0</td>\n",
       "      <td>2</td>\n",
       "      <td>0</td>\n",
       "      <td>4</td>\n",
       "      <td>squamous cell carcinoma</td>\n",
       "      <td>male</td>\n",
       "      <td>20071008</td>\n",
       "    </tr>\n",
       "    <tr>\n",
       "      <th>...</th>\n",
       "      <td>...</td>\n",
       "      <td>...</td>\n",
       "      <td>...</td>\n",
       "      <td>...</td>\n",
       "      <td>...</td>\n",
       "      <td>...</td>\n",
       "      <td>...</td>\n",
       "      <td>...</td>\n",
       "    </tr>\n",
       "    <tr>\n",
       "      <th>418</th>\n",
       "      <td>53.6712</td>\n",
       "      <td>2.0</td>\n",
       "      <td>0</td>\n",
       "      <td>0</td>\n",
       "      <td>1</td>\n",
       "      <td>adenocarcinoma</td>\n",
       "      <td>male</td>\n",
       "      <td>20080921</td>\n",
       "    </tr>\n",
       "    <tr>\n",
       "      <th>419</th>\n",
       "      <td>66.5096</td>\n",
       "      <td>4.0</td>\n",
       "      <td>1</td>\n",
       "      <td>0</td>\n",
       "      <td>4</td>\n",
       "      <td>squamous cell carcinoma</td>\n",
       "      <td>male</td>\n",
       "      <td>20080508</td>\n",
       "    </tr>\n",
       "    <tr>\n",
       "      <th>420</th>\n",
       "      <td>73.3808</td>\n",
       "      <td>2.0</td>\n",
       "      <td>1</td>\n",
       "      <td>0</td>\n",
       "      <td>2</td>\n",
       "      <td>squamous cell carcinoma</td>\n",
       "      <td>male</td>\n",
       "      <td>20051124</td>\n",
       "    </tr>\n",
       "    <tr>\n",
       "      <th>421</th>\n",
       "      <td>61.7041</td>\n",
       "      <td>2.0</td>\n",
       "      <td>2</td>\n",
       "      <td>0</td>\n",
       "      <td>3</td>\n",
       "      <td>squamous cell carcinoma</td>\n",
       "      <td>female</td>\n",
       "      <td>20100531</td>\n",
       "    </tr>\n",
       "    <tr>\n",
       "      <th>422</th>\n",
       "      <td>68.1260</td>\n",
       "      <td>2.0</td>\n",
       "      <td>0</td>\n",
       "      <td>0</td>\n",
       "      <td>1</td>\n",
       "      <td>nos</td>\n",
       "      <td>female</td>\n",
       "      <td>20060301</td>\n",
       "    </tr>\n",
       "  </tbody>\n",
       "</table>\n",
       "<p>420 rows × 8 columns</p>\n",
       "</div>"
      ],
      "text/plain": [
       "             age  clinical.T.Stage  Clinical.N.Stage  Clinical.M.Stage  \\\n",
       "patient                                                                  \n",
       "001      78.7515               2.0                 3                 0   \n",
       "002      83.8001               2.0                 0                 0   \n",
       "003      68.1807               2.0                 3                 0   \n",
       "004      70.8802               2.0                 1                 0   \n",
       "005      80.4819               4.0                 2                 0   \n",
       "...          ...               ...               ...               ...   \n",
       "418      53.6712               2.0                 0                 0   \n",
       "419      66.5096               4.0                 1                 0   \n",
       "420      73.3808               2.0                 1                 0   \n",
       "421      61.7041               2.0                 2                 0   \n",
       "422      68.1260               2.0                 0                 0   \n",
       "\n",
       "         Overall.Stage                Histology  gender  Study Date  \n",
       "patient                                                              \n",
       "001                  4               large cell    male    20140101  \n",
       "002                  1  squamous cell carcinoma    male    20080123  \n",
       "003                  4               large cell    male    20050105  \n",
       "004                  2  squamous cell carcinoma    male    20140101  \n",
       "005                  4  squamous cell carcinoma    male    20071008  \n",
       "...                ...                      ...     ...         ...  \n",
       "418                  1           adenocarcinoma    male    20080921  \n",
       "419                  4  squamous cell carcinoma    male    20080508  \n",
       "420                  2  squamous cell carcinoma    male    20051124  \n",
       "421                  3  squamous cell carcinoma  female    20100531  \n",
       "422                  1                      nos  female    20060301  \n",
       "\n",
       "[420 rows x 8 columns]"
      ]
     },
     "execution_count": 15,
     "metadata": {},
     "output_type": "execute_result"
    }
   ],
   "source": [
    "df"
   ]
  },
  {
   "cell_type": "code",
   "execution_count": 16,
   "metadata": {},
   "outputs": [
    {
     "data": {
      "text/plain": [
       "Index(['age', 'clinical.T.Stage', 'Clinical.N.Stage', 'Clinical.M.Stage',\n",
       "       'Overall.Stage', 'Histology', 'gender', 'Study Date'],\n",
       "      dtype='object')"
      ]
     },
     "execution_count": 16,
     "metadata": {},
     "output_type": "execute_result"
    }
   ],
   "source": [
    "df.columns"
   ]
  },
  {
   "cell_type": "code",
   "execution_count": 17,
   "metadata": {},
   "outputs": [],
   "source": [
    "\n",
    "ordinal_features = [\"clinical.T.Stage\", \"Clinical.N.Stage\", \"Clinical.M.Stage\", \"Overall.Stage\"]\n",
    "categorical_features = [ \"Histology\", \"gender\"]\n",
    "numerical_features = [\"age\"]\n",
    "\n",
    "ordinal_transformer = OrdinalEncoder()\n",
    "\n",
    "# One-Hot Encoding for categorical variables\n",
    "categorical_transformer = OneHotEncoder(drop=\"first\")\n",
    "\n",
    "# Standardize numerical features\n",
    "numerical_transformer = StandardScaler()\n",
    "\n",
    "# 3. Combine transformers using ColumnTransformer\n",
    "preprocessor = ColumnTransformer(\n",
    "    transformers=[\n",
    "        (\"num\", numerical_transformer, numerical_features),\n",
    "        (\"cat\", categorical_transformer, categorical_features),\n",
    "        (\"ord\", ordinal_transformer, ordinal_features),\n",
    "    ]\n",
    ")\n",
    "pipeline = Pipeline(steps=[(\"preprocessor\", preprocessor)])\n",
    "\n",
    "# 4. Fit and transform data\n",
    "X = pipeline.fit_transform(df)\n"
   ]
  },
  {
   "cell_type": "code",
   "execution_count": 18,
   "metadata": {},
   "outputs": [],
   "source": [
    "\n",
    "train_ids =  [i.split('_')[0]for i in os.listdir('data/train_time') ] \n",
    "test_ids = [i.split('_')[0]for i in os.listdir('data/test_time') ]"
   ]
  },
  {
   "cell_type": "code",
   "execution_count": 19,
   "metadata": {},
   "outputs": [],
   "source": [
    "\n",
    "for patient, feature in zip(df.index,X):\n",
    "    if patient in train_ids:\n",
    "        tensor = torch.tensor(feature)\n",
    "        torch.save(tensor, f'data/train_tabular/{patient}.pt')\n",
    "    elif patient in test_ids:\n",
    "        tensor = torch.tensor(feature)\n",
    "        torch.save(tensor, f'data/test_tabular/{patient}.pt')\n",
    "        "
   ]
  },
  {
   "cell_type": "markdown",
   "metadata": {},
   "source": [
    "## Get Event & Time Data"
   ]
  },
  {
   "cell_type": "code",
   "execution_count": 20,
   "metadata": {},
   "outputs": [],
   "source": [
    "df = data.copy()\n",
    "def f(x):\n",
    "    return x.split('-')[1]\n",
    "df['patient'] = df['PatientID'].apply(f)"
   ]
  },
  {
   "cell_type": "code",
   "execution_count": 21,
   "metadata": {},
   "outputs": [],
   "source": [
    "\n",
    "train_patients = [i.split('_')[0]for i in os.listdir('data/train') if i.endswith('.png')] \n",
    "train_patients.sort()\n",
    "train_patients.sort()\n",
    "unique_train_patients = set(train_patients)\n",
    "train_time = df[df['patient'].isin(unique_train_patients)][['Survival.time','patient']]\n",
    "train_event = df[df['patient'].isin(unique_train_patients)][['deadstatus.event','patient']]"
   ]
  },
  {
   "cell_type": "code",
   "execution_count": 22,
   "metadata": {},
   "outputs": [],
   "source": [
    "\n",
    "test_patients = [i.split('_')[0]for i in os.listdir('data/test') if i.endswith('.png')] \n",
    "test_patients.sort()\n",
    "test_patients.sort()\n",
    "unique_test_patients = set(test_patients)\n",
    "test_time = df[df['patient'].isin(unique_test_patients)][['Survival.time','patient']]\n",
    "test_event = df[df['patient'].isin(unique_test_patients)][['deadstatus.event','patient']]\n"
   ]
  },
  {
   "cell_type": "code",
   "execution_count": 23,
   "metadata": {},
   "outputs": [],
   "source": [
    "\n",
    "for i in train_time.index:\n",
    "    np.save('data/train_time/'+train_time.loc[i,'patient']+'_time.npy',train_time.loc[i,'Survival.time'])"
   ]
  },
  {
   "cell_type": "code",
   "execution_count": 24,
   "metadata": {},
   "outputs": [],
   "source": [
    "for i in train_event.index:\n",
    "    np.save('data/train_event/'+train_event.loc[i,'patient']+'_event.npy',train_event.loc[i,'deadstatus.event'])"
   ]
  },
  {
   "cell_type": "code",
   "execution_count": 25,
   "metadata": {},
   "outputs": [],
   "source": [
    "\n",
    "for i in test_time.index:\n",
    "    np.save('data/test_time/'+test_time.loc[i,'patient']+'_time.npy',test_time.loc[i,'Survival.time'])"
   ]
  },
  {
   "cell_type": "code",
   "execution_count": 26,
   "metadata": {},
   "outputs": [],
   "source": [
    "for i in test_event.index:\n",
    "    np.save('data/test_event/'+test_event.loc[i,'patient']+'_event.npy',test_event.loc[i,'deadstatus.event'])"
   ]
  },
  {
   "cell_type": "code",
   "execution_count": 27,
   "metadata": {},
   "outputs": [
    {
     "data": {
      "text/plain": [
       "(326, 326, 94, 94)"
      ]
     },
     "execution_count": 27,
     "metadata": {},
     "output_type": "execute_result"
    }
   ],
   "source": [
    "len(os.listdir('data/train_time')), len(os.listdir('data/train_event')), len(os.listdir('data/test_time')), len(os.listdir('data/test_event'))"
   ]
  },
  {
   "cell_type": "markdown",
   "metadata": {},
   "source": [
    "## Get Volume Data"
   ]
  },
  {
   "cell_type": "code",
   "execution_count": 28,
   "metadata": {},
   "outputs": [],
   "source": [
    "def get_slices_per_patient(patient_id,mode):\n",
    "    return [f'data/{mode}/{i}' for i in os.listdir(f'data/{mode}') if i.startswith(patient_id) and i.endswith('.png')]\n",
    "def load_slices_per_subject(slices):\n",
    "    X = np.zeros((5, 256, 256, 1))\n",
    "    for i, slice in enumerate(slices):\n",
    "        X[i] = np.expand_dims(plt.imread(slice), axis=-1)\n",
    "    X = torch.tensor(X)\n",
    "    return X.permute(3,0,1,2)\n",
    "def get_patients(mode):\n",
    "    patients = list(set([i.split('_')[0] for i in os.listdir(f'data/{mode}') if i.endswith('.png')]))\n",
    "    return patients\n",
    "def get_slices(mode):\n",
    "    patients = get_patients(mode)\n",
    "    slices = {}\n",
    "    for patient in patients:\n",
    "        slice = get_slices_per_patient(patient,mode)\n",
    "        slices[patient] = slice\n",
    "    return slices"
   ]
  },
  {
   "cell_type": "code",
   "execution_count": 29,
   "metadata": {},
   "outputs": [],
   "source": [
    "slices = get_slices('test')\n",
    "for key, value in slices.items():\n",
    "    volume = load_slices_per_subject(value)\n",
    "    torch.save(volume, f'data/test_volume/{key}.pt')"
   ]
  },
  {
   "cell_type": "code",
   "execution_count": null,
   "metadata": {},
   "outputs": [],
   "source": []
  }
 ],
 "metadata": {
  "kernelspec": {
   "display_name": "Python 3",
   "language": "python",
   "name": "python3"
  },
  "language_info": {
   "codemirror_mode": {
    "name": "ipython",
    "version": 3
   },
   "file_extension": ".py",
   "mimetype": "text/x-python",
   "name": "python",
   "nbconvert_exporter": "python",
   "pygments_lexer": "ipython3",
   "version": "3.10.15"
  }
 },
 "nbformat": 4,
 "nbformat_minor": 2
}
