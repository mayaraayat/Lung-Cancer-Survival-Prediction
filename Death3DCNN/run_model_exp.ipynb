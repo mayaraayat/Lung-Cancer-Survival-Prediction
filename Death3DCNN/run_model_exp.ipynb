{
 "cells": [
  {
   "cell_type": "code",
   "execution_count": 2,
   "metadata": {},
   "outputs": [],
   "source": [
    "import pandas as pd\n",
    "import torch\n",
    "import torch.nn as nn\n",
    "from torch.nn.functional import softmax\n",
    "import torch.optim as optim\n",
    "from torch.utils.data import DataLoader, Dataset\n",
    "from torch.utils.tensorboard import SummaryWriter\n",
    "from sksurv.linear_model import CoxPHSurvivalAnalysis\n",
    "from losses import CensoredMSELoss\n",
    "from utils import compute_time_to_event\n",
    "import numpy as np\n",
    "import logging\n",
    "import hydra\n",
    "from hydra import initialize, compose\n",
    "from omegaconf import DictConfig, OmegaConf\n",
    "import os\n",
    "import logging\n",
    "from model import TimeToDeath3DCNN\n",
    "from sklearn.model_selection import train_test_split\n",
    "from utils import LungCancerDataset\n",
    "from sklearn.preprocessing import StandardScaler, OneHotEncoder, OrdinalEncoder\n",
    "from sklearn.compose import ColumnTransformer\n",
    "from sklearn.pipeline import Pipeline\n",
    "import imageio.v3 as iio\n",
    "from tqdm import tqdm"
   ]
  },
  {
   "cell_type": "code",
   "execution_count": 3,
   "metadata": {},
   "outputs": [],
   "source": [
    "def train_model(model, train_dataset, batch_size, criterion, optimizer, writer, device, num_epochs, gamma, logger):\n",
    "\n",
    "    dataloader = DataLoader(train_dataset, batch_size=batch_size, shuffle=True)\n",
    "    device = torch.device(\"cuda\" if torch.cuda.is_available() else \"cpu\")\n",
    "    model.to(device)\n",
    "    model.train()\n",
    "    \n",
    "    with tqdm(range(num_epochs), desc=\"Epochs\", leave=False) as pbar:\n",
    "        for epoch in pbar:\n",
    "            epoch_loss = 0\n",
    "            for batch in dataloader: # clinical vars too\n",
    "                scans, events, times, clinical_vars = batch\n",
    "                print(scans.shape)\n",
    "                scans, events, times, clinical_vars = scans.to(device), events.to(device), times.to(device), clinical_vars.to(device)\n",
    "\n",
    "                optimizer.zero_grad()\n",
    "                embedding, proba_thresh = model(scans)\n",
    "                all_features = np.concatenate((embedding.detach().cpu().numpy(), clinical_vars.detach().cpu().numpy()), axis=1) \n",
    "                survival_estimator = model.fit_survival_estimator(all_features, events, times)\n",
    "                surv_funcs = survival_estimator.predict_survival_function(all_features)\n",
    "                survival_times = compute_time_to_event(surv_funcs, thershold = proba_thresh)\n",
    "                loss = criterion(survival_times, events, times, gamma)\n",
    "                loss.backward()\n",
    "                optimizer.step()\n",
    "                epoch_loss += loss.item()\n",
    "\n",
    "                pbar.set_postfix_str(\n",
    "                f\"Epoch {epoch} \"\n",
    "                f\"| Loss {loss.item():.02f} \"\n",
    "            )\n",
    "\n",
    "            print(f\"Epoch {epoch + 1}, Loss: {epoch_loss:.4f}\")\n",
    "            avg_loss = epoch_loss / len(dataloader)\n",
    "            logger.info(f\"Epoch {epoch + 1}/{num_epochs}, Loss: {avg_loss:.4f}\")\n",
    "            writer.add_scalar(\"Loss/Train\", avg_loss, epoch + 1)\n",
    "\n",
    "    return model"
   ]
  },
  {
   "cell_type": "code",
   "execution_count": 4,
   "metadata": {},
   "outputs": [],
   "source": [
    "def test_model(model, test_dataset, criterion, writer, device, epoch, batch_size, gamma, logger):\n",
    "\n",
    "    dataloader = DataLoader(test_dataset, batch_size=batch_size, shuffle=False)\n",
    "    model.eval()\n",
    "    with torch.no_grad():\n",
    "        total_loss = 0\n",
    "        for batch in dataloader:\n",
    "            scans, events, times, clinical_vars = batch\n",
    "            scans, events, times, clinical_vars = scans.to(device), events.to(device), times.to(device), clinical_vars.to(device)\n",
    "\n",
    "            embedding, proba_thresh = model(scans)\n",
    "            all_features = np.concatenate((embedding.detach().numpy(), clinical_vars.detach().numpy()), axis=1)\n",
    "            survival_estimator = model.fit_survival_estimator(all_features, events, times)\n",
    "            surv_funcs = survival_estimator.predict_survival_function(all_features)\n",
    "            survival_times = compute_time_to_event(surv_funcs, thershold = proba_thresh)\n",
    "            loss = criterion(survival_times, events, times, gamma)\n",
    "\n",
    "            total_loss += loss.item()\n",
    "\n",
    "        print(f\"Test Loss: {total_loss:.4f}\")\n",
    "        avg_loss = total_loss / len(dataloader)\n",
    "        logger.info(f\"Test Loss: {avg_loss:.4f}\")\n",
    "        writer.add_scalar(\"Loss/Test\", avg_loss, epoch)\n",
    "        return avg_loss"
   ]
  },
  {
   "cell_type": "code",
   "execution_count": 71,
   "metadata": {},
   "outputs": [
    {
     "name": "stdout",
     "output_type": "stream",
     "text": [
      "project: Death3DCNN\n",
      "experiment_name: exp1\n",
      "hypothesis: '-'\n",
      "in_channels: 1\n",
      "out_channels_conv1: 16\n",
      "out_channels_conv2: 32\n",
      "out_channels_conv3: 64\n",
      "output_dim_target: 50\n",
      "kernel_conv: 3\n",
      "kernel_pool: 2\n",
      "dropout: 0.5\n",
      "num_epochs: 10\n",
      "batch_size: 1\n",
      "lr: 0.001\n",
      "gamma: 0.1\n",
      "scans_path_train: /Users/VictoriaShevchenko/Documents/biohack/data/train\n",
      "scans_path_test: /Users/VictoriaShevchenko/Documents/biohack/data/test\n",
      "clinical_vars_path: /Users/VictoriaShevchenko/Documents/biohack/data/NSCLC-Radiomics-Lung1.clinical-version3-Oct-2019.csv\n",
      "work_dir: .\n",
      "results_dir: ./results\n",
      "\n"
     ]
    }
   ],
   "source": [
    "with initialize(version_base=None, config_path=\".\"):\n",
    "    cfg = compose(config_name='experiment_config.yaml')\n",
    "    print(OmegaConf.to_yaml(cfg))"
   ]
  },
  {
   "cell_type": "code",
   "execution_count": 72,
   "metadata": {},
   "outputs": [],
   "source": [
    "dataset_train = LungCancerDataset(scans_path_train=cfg.scans_path_train, scans_path_test=cfg.scans_path_test, clinical_path=cfg.clinical_vars_path, return_train=True)"
   ]
  },
  {
   "cell_type": "code",
   "execution_count": 73,
   "metadata": {},
   "outputs": [
    {
     "data": {
      "text/plain": [
       "torch.Size([325, 1, 5, 256, 256])"
      ]
     },
     "execution_count": 73,
     "metadata": {},
     "output_type": "execute_result"
    }
   ],
   "source": [
    "dataset_train.scans.shape"
   ]
  },
  {
   "cell_type": "code",
   "execution_count": 19,
   "metadata": {},
   "outputs": [],
   "source": [
    "def main(cfg=cfg):\n",
    "\n",
    "    # cfg contains all hyperparams and paths\n",
    "    # make sure the paths are correct\n",
    "\n",
    "    device = torch.device(\"cuda\" if torch.cuda.is_available() else \"cpu\")\n",
    "\n",
    "    results_dir = os.path.join(cfg.results_dir, cfg.experiment_name)\n",
    "    os.makedirs(results_dir, exist_ok=True)\n",
    "    random_state = np.random.RandomState(seed=42)\n",
    "\n",
    "    batch_size = cfg.batch_size\n",
    "    learning_rate = cfg.lr\n",
    "    num_epochs = cfg.num_epochs\n",
    "    in_channels = cfg.in_channels\n",
    "    out_channels_conv1 = cfg.out_channels_conv1\n",
    "    out_channels_conv2 = cfg.out_channels_conv2\n",
    "    out_channels_conv3 = cfg.out_channels_conv3\n",
    "    kernel_conv = cfg.kernel_conv\n",
    "    kernel_pool = cfg.kernel_pool\n",
    "    dropout = cfg.dropout\n",
    "    gamma = cfg.gamma\n",
    "\n",
    "\n",
    "    logging.basicConfig(\n",
    "    level=logging.INFO, format=\"%(asctime)s - %(levelname)s - %(message)s\"\n",
    "    )\n",
    "    logger = logging.getLogger(__name__)\n",
    "\n",
    "    model  = TimeToDeath3DCNN(\n",
    "        in_channels,\n",
    "        out_channels_conv1,\n",
    "        out_channels_conv2,\n",
    "        out_channels_conv3,\n",
    "        kernel_conv,\n",
    "        kernel_pool,\n",
    "        dropout)\n",
    "    \n",
    "    criterion = CensoredMSELoss()\n",
    "    optimizer = optim.Adam(model.parameters(), lr=learning_rate) # replace with ADOPT?\n",
    "\n",
    "    train_dataset = LungCancerDataset(cfg.scans_path_train, cfg.scans_path_test, cfg.clinical_vars_path, return_train=True)\n",
    "    test_dataset = LungCancerDataset(cfg.scans_path_train, cfg.scans_path_test, cfg.clinical_vars_path, return_train=False)\n",
    "\n",
    "    writer = SummaryWriter(results_dir)\n",
    "    model = train_model(model, train_dataset, batch_size, criterion, optimizer, writer, device, num_epochs, gamma, logger)\n",
    "    avg_test_loss = test_model(model, test_dataset, criterion, writer, device, num_epochs, batch_size, gamma, logger)\n",
    "\n",
    "    return model, avg_test_loss\n",
    "    \n"
   ]
  },
  {
   "cell_type": "code",
   "execution_count": 20,
   "metadata": {},
   "outputs": [
    {
     "name": "stdout",
     "output_type": "stream",
     "text": [
      "project: Death3DCNN\n",
      "experiment_name: exp1\n",
      "hypothesis: '-'\n",
      "in_channels: 1\n",
      "out_channels_conv1: 16\n",
      "out_channels_conv2: 32\n",
      "out_channels_conv3: 64\n",
      "output_dim_target: 50\n",
      "kernel_conv: 3\n",
      "kernel_pool: 2\n",
      "dropout: 0.5\n",
      "num_epochs: 100\n",
      "batch_size: 1\n",
      "lr: 0.001\n",
      "gamma: 0.1\n",
      "scans_path_train: /Users/VictoriaShevchenko/Documents/biohack/data/train\n",
      "scans_path_test: /Users/VictoriaShevchenko/Documents/biohack/data/test\n",
      "clinical_vars_path: /Users/VictoriaShevchenko/Documents/biohack/data/NSCLC-Radiomics-Lung1.clinical-version3-Oct-2019.csv\n",
      "work_dir: .\n",
      "results_dir: ./results\n",
      "\n"
     ]
    }
   ],
   "source": [
    "with initialize(version_base=None, config_path=\".\"):\n",
    "    cfg = compose(config_name='experiment_config.yaml')\n",
    "    print(OmegaConf.to_yaml(cfg))"
   ]
  },
  {
   "cell_type": "code",
   "execution_count": null,
   "metadata": {},
   "outputs": [
    {
     "name": "stderr",
     "output_type": "stream",
     "text": [
      "Epochs:   0%|          | 0/100 [00:00<?, ?it/s]"
     ]
    }
   ],
   "source": [
    "if __name__ == \"__main__\":\n",
    "    main()"
   ]
  }
 ],
 "metadata": {
  "kernelspec": {
   "display_name": "neuro",
   "language": "python",
   "name": "python3"
  },
  "language_info": {
   "codemirror_mode": {
    "name": "ipython",
    "version": 3
   },
   "file_extension": ".py",
   "mimetype": "text/x-python",
   "name": "python",
   "nbconvert_exporter": "python",
   "pygments_lexer": "ipython3",
   "version": "3.9.20"
  }
 },
 "nbformat": 4,
 "nbformat_minor": 2
}
